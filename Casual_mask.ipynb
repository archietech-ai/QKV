{
  "cells": [
    {
      "cell_type": "markdown",
      "metadata": {
        "id": "view-in-github",
        "colab_type": "text"
      },
      "source": [
        "<a href=\"https://colab.research.google.com/github/archietech-ai/QKV/blob/main/Casual_mask.ipynb\" target=\"_parent\"><img src=\"https://colab.research.google.com/assets/colab-badge.svg\" alt=\"Open In Colab\"/></a>"
      ]
    },
    {
      "cell_type": "markdown",
      "id": "1ae38945-39dd-45dc-ad4f-da7a4404241f",
      "metadata": {
        "id": "1ae38945-39dd-45dc-ad4f-da7a4404241f"
      },
      "source": [
        "<table style=\"width:100%\">\n",
        "<tr>\n",
        "<td style=\"vertical-align:middle; text-align:left;\">\n",
        "<font size=\"2\">\n",
        "Supplementary code for the <a href=\"http://mng.bz/orYv\">Build a Large Language Model From Scratch</a> book by <a href=\"https://sebastianraschka.com\">Sebastian Raschka</a><br>\n",
        "<br>Code repository: <a href=\"https://github.com/rasbt/LLMs-from-scratch\">https://github.com/rasbt/LLMs-from-scratch</a>\n",
        "</font>\n",
        "</td>\n",
        "<td style=\"vertical-align:middle; text-align:left;\">\n",
        "<a href=\"http://mng.bz/orYv\"><img src=\"https://sebastianraschka.com/images/LLMs-from-scratch-images/cover-small.webp\" width=\"100px\"></a>\n",
        "</td>\n",
        "</tr>\n",
        "</table>\n"
      ]
    },
    {
      "cell_type": "markdown",
      "id": "8bfa70ec-5c4c-40e8-b923-16f8167e3181",
      "metadata": {
        "id": "8bfa70ec-5c4c-40e8-b923-16f8167e3181"
      },
      "source": [
        "# Chapter 3: Coding Attention Mechanisms"
      ]
    },
    {
      "cell_type": "markdown",
      "id": "c29bcbe8-a034-43a2-b557-997b03c9882d",
      "metadata": {
        "id": "c29bcbe8-a034-43a2-b557-997b03c9882d"
      },
      "source": [
        "Packages that are being used in this notebook:"
      ]
    },
    {
      "cell_type": "code",
      "execution_count": 2,
      "id": "e58f33e8-5dc9-4dd5-ab84-5a011fa11d92",
      "metadata": {
        "colab": {
          "base_uri": "https://localhost:8080/"
        },
        "id": "e58f33e8-5dc9-4dd5-ab84-5a011fa11d92",
        "outputId": "7904a4e4-8f72-4cd6-ec7d-3c981718a6b2"
      },
      "outputs": [
        {
          "output_type": "stream",
          "name": "stdout",
          "text": [
            "torch version: 2.5.1+cu121\n"
          ]
        }
      ],
      "source": [
        "from importlib.metadata import version\n",
        "\n",
        "print(\"torch version:\", version(\"torch\"))"
      ]
    },
    {
      "cell_type": "markdown",
      "id": "a2a4474d-7c68-4846-8702-37906cf08197",
      "metadata": {
        "id": "a2a4474d-7c68-4846-8702-37906cf08197"
      },
      "source": [
        "- This chapter covers attention mechanisms, the engine of LLMs:"
      ]
    },
    {
      "cell_type": "markdown",
      "id": "02a11208-d9d3-44b1-8e0d-0c8414110b93",
      "metadata": {
        "id": "02a11208-d9d3-44b1-8e0d-0c8414110b93"
      },
      "source": [
        "<img src=\"https://sebastianraschka.com/images/LLMs-from-scratch-images/ch03_compressed/01.webp?123\" width=\"500px\">"
      ]
    },
    {
      "cell_type": "markdown",
      "id": "50e020fd-9690-4343-80df-da96678bef5e",
      "metadata": {
        "id": "50e020fd-9690-4343-80df-da96678bef5e"
      },
      "source": [
        "<img src=\"https://sebastianraschka.com/images/LLMs-from-scratch-images/ch03_compressed/02.webp\" width=\"600px\">"
      ]
    },
    {
      "cell_type": "markdown",
      "id": "ecc4dcee-34ea-4c05-9085-2f8887f70363",
      "metadata": {
        "id": "ecc4dcee-34ea-4c05-9085-2f8887f70363"
      },
      "source": [
        "## 3.1 The problem with modeling long sequences"
      ]
    },
    {
      "cell_type": "markdown",
      "id": "a55aa49c-36c2-48da-b1d9-70f416e46a6a",
      "metadata": {
        "id": "a55aa49c-36c2-48da-b1d9-70f416e46a6a"
      },
      "source": [
        "- No code in this section\n",
        "- Translating a text word by word isn't feasible due to the differences in grammatical structures between the source and target languages:"
      ]
    },
    {
      "cell_type": "markdown",
      "id": "55c0c433-aa4b-491e-848a-54905ebb05ad",
      "metadata": {
        "id": "55c0c433-aa4b-491e-848a-54905ebb05ad"
      },
      "source": [
        "<img src=\"https://sebastianraschka.com/images/LLMs-from-scratch-images/ch03_compressed/03.webp\" width=\"400px\">"
      ]
    },
    {
      "cell_type": "markdown",
      "id": "db03c48a-3429-48ea-9d4a-2e53b0e516b1",
      "metadata": {
        "id": "db03c48a-3429-48ea-9d4a-2e53b0e516b1"
      },
      "source": [
        "- Prior to the introduction of transformer models, encoder-decoder RNNs were commonly used for machine translation tasks\n",
        "- In this setup, the encoder processes a sequence of tokens from the source language, using a hidden state—a kind of intermediate layer within the neural network—to generate a condensed representation of the entire input sequence:"
      ]
    },
    {
      "cell_type": "markdown",
      "id": "03d8df2c-c1c2-4df0-9977-ade9713088b2",
      "metadata": {
        "id": "03d8df2c-c1c2-4df0-9977-ade9713088b2"
      },
      "source": [
        "<img src=\"https://sebastianraschka.com/images/LLMs-from-scratch-images/ch03_compressed/04.webp\" width=\"500px\">"
      ]
    },
    {
      "cell_type": "markdown",
      "id": "3602c585-b87a-41c7-a324-c5e8298849df",
      "metadata": {
        "id": "3602c585-b87a-41c7-a324-c5e8298849df"
      },
      "source": [
        "## 3.2 Capturing data dependencies with attention mechanisms"
      ]
    },
    {
      "cell_type": "markdown",
      "id": "b6fde64c-6034-421d-81d9-8244932086ea",
      "metadata": {
        "id": "b6fde64c-6034-421d-81d9-8244932086ea"
      },
      "source": [
        "- No code in this section\n",
        "- Through an attention mechanism, the text-generating decoder segment of the network is capable of selectively accessing all input tokens, implying that certain input tokens hold more significance than others in the generation of a specific output token:"
      ]
    },
    {
      "cell_type": "markdown",
      "id": "bc4f6293-8ab5-4aeb-a04c-50ee158485b1",
      "metadata": {
        "id": "bc4f6293-8ab5-4aeb-a04c-50ee158485b1"
      },
      "source": [
        "<img src=\"https://sebastianraschka.com/images/LLMs-from-scratch-images/ch03_compressed/05.webp\" width=\"500px\">"
      ]
    },
    {
      "cell_type": "markdown",
      "id": "8044be1f-e6a2-4a1f-a6dd-e325d3bad05e",
      "metadata": {
        "id": "8044be1f-e6a2-4a1f-a6dd-e325d3bad05e"
      },
      "source": [
        "- Self-attention in transformers is a technique designed to enhance input representations by enabling each position in a sequence to engage with and determine the relevance of every other position within the same sequence"
      ]
    },
    {
      "cell_type": "markdown",
      "id": "6565dc9f-b1be-4c78-b503-42ccc743296c",
      "metadata": {
        "id": "6565dc9f-b1be-4c78-b503-42ccc743296c"
      },
      "source": [
        "<img src=\"https://sebastianraschka.com/images/LLMs-from-scratch-images/ch03_compressed/06.webp\" width=\"300px\">"
      ]
    },
    {
      "cell_type": "markdown",
      "id": "5efe05ff-b441-408e-8d66-cde4eb3397e3",
      "metadata": {
        "id": "5efe05ff-b441-408e-8d66-cde4eb3397e3"
      },
      "source": [
        "## 3.3 Attending to different parts of the input with self-attention"
      ]
    },
    {
      "cell_type": "markdown",
      "id": "6d9af516-7c37-4400-ab53-34936d5495a9",
      "metadata": {
        "id": "6d9af516-7c37-4400-ab53-34936d5495a9"
      },
      "source": [
        "### 3.3.1 A simple self-attention mechanism without trainable weights"
      ]
    },
    {
      "cell_type": "markdown",
      "id": "d269e9f1-df11-4644-b575-df338cf46cdf",
      "metadata": {
        "id": "d269e9f1-df11-4644-b575-df338cf46cdf"
      },
      "source": [
        "- This section explains a very simplified variant of self-attention, which does not contain any trainable weights\n",
        "- This is purely for illustration purposes and NOT the attention mechanism that is used in transformers\n",
        "- The next section, section 3.3.2, will extend this simple attention mechanism to implement the real self-attention mechanism\n",
        "- Suppose we are given an input sequence $x^{(1)}$ to $x^{(T)}$\n",
        "  - The input is a text (for example, a sentence like \"Your journey starts with one step\") that has already been converted into token embeddings as described in chapter 2\n",
        "  - For instance, $x^{(1)}$ is a d-dimensional vector representing the word \"Your\", and so forth\n",
        "- **Goal:** compute context vectors $z^{(i)}$ for each input sequence element $x^{(i)}$ in $x^{(1)}$ to $x^{(T)}$ (where $z$ and $x$ have the same dimension)\n",
        "    - A context vector $z^{(i)}$ is a weighted sum over the inputs $x^{(1)}$ to $x^{(T)}$\n",
        "    - The context vector is \"context\"-specific to a certain input\n",
        "      - Instead of $x^{(i)}$ as a placeholder for an arbitrary input token, let's consider the second input, $x^{(2)}$\n",
        "      - And to continue with a concrete example, instead of the placeholder $z^{(i)}$, we consider the second output context vector, $z^{(2)}$\n",
        "      - The second context vector, $z^{(2)}$, is a weighted sum over all inputs $x^{(1)}$ to $x^{(T)}$ weighted with respect to the second input element, $x^{(2)}$\n",
        "      - The attention weights are the weights that determine how much each of the input elements contributes to the weighted sum when computing $z^{(2)}$\n",
        "      - In short, think of $z^{(2)}$ as a modified version of $x^{(2)}$ that also incorporates information about all other input elements that are relevant to a given task at hand"
      ]
    },
    {
      "cell_type": "markdown",
      "id": "fcc7c7a2-b6ab-478f-ae37-faa8eaa8049a",
      "metadata": {
        "id": "fcc7c7a2-b6ab-478f-ae37-faa8eaa8049a"
      },
      "source": [
        "<img src=\"https://sebastianraschka.com/images/LLMs-from-scratch-images/ch03_compressed/07.webp\" width=\"400px\">\n",
        "\n",
        "- (Please note that the numbers in this figure are truncated to one\n",
        "digit after the decimal point to reduce visual clutter; similarly, other figures may also contain truncated values)"
      ]
    },
    {
      "cell_type": "markdown",
      "id": "ff856c58-8382-44c7-827f-798040e6e697",
      "metadata": {
        "id": "ff856c58-8382-44c7-827f-798040e6e697"
      },
      "source": [
        "- By convention, the unnormalized attention weights are referred to as **\"attention scores\"** whereas the normalized attention scores, which sum to 1, are referred to as **\"attention weights\"**\n"
      ]
    },
    {
      "cell_type": "markdown",
      "id": "01b10344-128d-462a-823f-2178dff5fd58",
      "metadata": {
        "id": "01b10344-128d-462a-823f-2178dff5fd58"
      },
      "source": [
        "- The code below walks through the figure above step by step\n",
        "\n",
        "<br>\n",
        "\n",
        "- **Step 1:** compute unnormalized attention scores $\\omega$\n",
        "- Suppose we use the second input token as the query, that is, $q^{(2)} = x^{(2)}$, we compute the unnormalized attention scores via dot products:\n",
        "    - $\\omega_{21} = x^{(1)} q^{(2)\\top}$\n",
        "    - $\\omega_{22} = x^{(2)} q^{(2)\\top}$\n",
        "    - $\\omega_{23} = x^{(3)} q^{(2)\\top}$\n",
        "    - ...\n",
        "    - $\\omega_{2T} = x^{(T)} q^{(2)\\top}$\n",
        "- Above, $\\omega$ is the Greek letter \"omega\" used to symbolize the unnormalized attention scores\n",
        "    - The subscript \"21\" in $\\omega_{21}$ means that input sequence element 2 was used as a query against input sequence element 1"
      ]
    },
    {
      "cell_type": "markdown",
      "id": "35e55f7a-f2d0-4f24-858b-228e4fe88fb3",
      "metadata": {
        "id": "35e55f7a-f2d0-4f24-858b-228e4fe88fb3"
      },
      "source": [
        "- Suppose we have the following input sentence that is already embedded in 3-dimensional vectors as described in chapter 3 (we use a very small embedding dimension here for illustration purposes, so that it fits onto the page without line breaks):"
      ]
    },
    {
      "cell_type": "code",
      "execution_count": 3,
      "id": "22b9556a-aaf8-4ab4-a5b4-973372b0b2c3",
      "metadata": {
        "id": "22b9556a-aaf8-4ab4-a5b4-973372b0b2c3"
      },
      "outputs": [],
      "source": [
        "import torch\n",
        "\n",
        "inputs = torch.tensor(\n",
        "  [[0.43, 0.15, 0.89], # Your     (x^1)\n",
        "   [0.55, 0.87, 0.66], # journey  (x^2)\n",
        "   [0.57, 0.85, 0.64], # starts   (x^3)\n",
        "   [0.22, 0.58, 0.33], # with     (x^4)\n",
        "   [0.77, 0.25, 0.10], # one      (x^5)\n",
        "   [0.05, 0.80, 0.55]] # step     (x^6)\n",
        ")"
      ]
    },
    {
      "cell_type": "markdown",
      "id": "299baef3-b1a8-49ba-bad4-f62c8a416d83",
      "metadata": {
        "id": "299baef3-b1a8-49ba-bad4-f62c8a416d83"
      },
      "source": [
        "- (In this book, we follow the common machine learning and deep learning convention where training examples are represented as rows and feature values as columns; in the case of the tensor shown above, each row represents a word, and each column represents an embedding dimension)\n",
        "\n",
        "- The primary objective of this section is to demonstrate how the context vector $z^{(2)}$\n",
        "  is calculated using the second input sequence, $x^{(2)}$, as a query\n",
        "\n",
        "- The figure depicts the initial step in this process, which involves calculating the attention scores ω between $x^{(2)}$\n",
        "  and all other input elements through a dot product operation"
      ]
    },
    {
      "cell_type": "markdown",
      "id": "5cb3453a-58fa-42c4-b225-86850bc856f8",
      "metadata": {
        "id": "5cb3453a-58fa-42c4-b225-86850bc856f8"
      },
      "source": [
        "<img src=\"https://sebastianraschka.com/images/LLMs-from-scratch-images/ch03_compressed/08.webp\" width=\"400px\">"
      ]
    },
    {
      "cell_type": "markdown",
      "id": "77be52fb-82fd-4886-a4c8-f24a9c87af22",
      "metadata": {
        "id": "77be52fb-82fd-4886-a4c8-f24a9c87af22"
      },
      "source": [
        "- We use input sequence element 2, $x^{(2)}$, as an example to compute context vector $z^{(2)}$; later in this section, we will generalize this to compute all context vectors.\n",
        "- The first step is to compute the unnormalized attention scores by computing the dot product between the query $x^{(2)}$ and all other input tokens:"
      ]
    },
    {
      "cell_type": "code",
      "execution_count": 4,
      "id": "6fb5b2f8-dd2c-4a6d-94ef-a0e9ad163951",
      "metadata": {
        "colab": {
          "base_uri": "https://localhost:8080/"
        },
        "id": "6fb5b2f8-dd2c-4a6d-94ef-a0e9ad163951",
        "outputId": "2aead932-937c-49b1-b8ed-ef5e49f5e060"
      },
      "outputs": [
        {
          "output_type": "stream",
          "name": "stdout",
          "text": [
            "tensor([0.9544, 1.4950, 1.4754, 0.8434, 0.7070, 1.0865])\n"
          ]
        }
      ],
      "source": [
        "query = inputs[1]  # 2nd input token is the query\n",
        "\n",
        "attn_scores_2 = torch.empty(inputs.shape[0]) # gets the size of the first dimension of the inputs tensor. If inputs has shape [4, 8] (4 rows, 8 columns) then inputs.shape[0] would be 4\n",
        "# For example torch.empty(4) would then create a 1D tensor of size 4\n",
        "for i, x_i in enumerate(inputs):\n",
        "    attn_scores_2[i] = torch.dot(x_i, query) # Computes dot product between each input vector and the query. dot product (transpose not necessary here since they are 1-dim vectors)\n",
        "\n",
        "print(attn_scores_2)"
      ]
    },
    {
      "cell_type": "markdown",
      "id": "8df09ae0-199f-4b6f-81a0-2f70546684b8",
      "metadata": {
        "id": "8df09ae0-199f-4b6f-81a0-2f70546684b8"
      },
      "source": [
        "- Side note: a dot product is essentially a shorthand for multiplying two vectors elements-wise and summing the resulting products:"
      ]
    },
    {
      "cell_type": "code",
      "execution_count": 5,
      "id": "9842f39b-1654-410e-88bf-d1b899bf0241",
      "metadata": {
        "colab": {
          "base_uri": "https://localhost:8080/"
        },
        "id": "9842f39b-1654-410e-88bf-d1b899bf0241",
        "outputId": "3629f47f-7dcb-4e17-97f5-3ab3a3ce2e63"
      },
      "outputs": [
        {
          "output_type": "stream",
          "name": "stdout",
          "text": [
            "tensor(0.9544)\n",
            "tensor(0.9544)\n"
          ]
        }
      ],
      "source": [
        "res = 0.\n",
        "\n",
        "for idx, element in enumerate(inputs[0]):\n",
        "    res += inputs[0][idx] * query[idx]\n",
        "\n",
        "print(res)\n",
        "print(torch.dot(inputs[0], query))"
      ]
    },
    {
      "cell_type": "markdown",
      "id": "7d444d76-e19e-4e9a-a268-f315d966609b",
      "metadata": {
        "id": "7d444d76-e19e-4e9a-a268-f315d966609b"
      },
      "source": [
        "- **Step 2:** normalize the unnormalized attention scores (\"omegas\", $\\omega$) so that they sum up to 1\n",
        "- Here is a simple way to normalize the unnormalized attention scores to sum up to 1 (a convention, useful for interpretation, and important for training stability):"
      ]
    },
    {
      "cell_type": "markdown",
      "id": "dfd965d6-980c-476a-93d8-9efe603b1b3b",
      "metadata": {
        "id": "dfd965d6-980c-476a-93d8-9efe603b1b3b"
      },
      "source": [
        "<img src=\"https://sebastianraschka.com/images/LLMs-from-scratch-images/ch03_compressed/09.webp\" width=\"500px\">"
      ]
    },
    {
      "cell_type": "code",
      "execution_count": 6,
      "id": "e3ccc99c-33ce-4f11-b7f2-353cf1cbdaba",
      "metadata": {
        "colab": {
          "base_uri": "https://localhost:8080/"
        },
        "id": "e3ccc99c-33ce-4f11-b7f2-353cf1cbdaba",
        "outputId": "45bda17b-d1bc-4e13-b88a-85cbdbf0258a"
      },
      "outputs": [
        {
          "output_type": "stream",
          "name": "stdout",
          "text": [
            "Attention weights: tensor([0.1455, 0.2278, 0.2249, 0.1285, 0.1077, 0.1656])\n",
            "Sum: tensor(1.0000)\n"
          ]
        }
      ],
      "source": [
        "attn_weights_2_tmp = attn_scores_2 / attn_scores_2.sum()\n",
        "\n",
        "print(\"Attention weights:\", attn_weights_2_tmp)\n",
        "print(\"Sum:\", attn_weights_2_tmp.sum())"
      ]
    },
    {
      "cell_type": "markdown",
      "id": "75dc0a57-f53e-41bf-8793-daa77a819431",
      "metadata": {
        "id": "75dc0a57-f53e-41bf-8793-daa77a819431"
      },
      "source": [
        "- However, in practice, using the softmax function for normalization, which is better at handling extreme values and has more desirable gradient properties during training, is common and recommended.\n",
        "- Here's a naive implementation of a softmax function for scaling, which also normalizes the vector elements such that they sum up to 1:"
      ]
    },
    {
      "cell_type": "code",
      "execution_count": 7,
      "id": "07b2e58d-a6ed-49f0-a1cd-2463e8d53a20",
      "metadata": {
        "colab": {
          "base_uri": "https://localhost:8080/"
        },
        "id": "07b2e58d-a6ed-49f0-a1cd-2463e8d53a20",
        "outputId": "72e90ea2-1eb6-4e9d-876b-700758ae567c"
      },
      "outputs": [
        {
          "output_type": "stream",
          "name": "stdout",
          "text": [
            "Attention weights: tensor([0.1385, 0.2379, 0.2333, 0.1240, 0.1082, 0.1581])\n",
            "Sum: tensor(1.)\n"
          ]
        }
      ],
      "source": [
        "def softmax_naive(x):\n",
        "    return torch.exp(x) / torch.exp(x).sum(dim=0)\n",
        "\n",
        "attn_weights_2_naive = softmax_naive(attn_scores_2)\n",
        "\n",
        "print(\"Attention weights:\", attn_weights_2_naive)\n",
        "print(\"Sum:\", attn_weights_2_naive.sum())"
      ]
    },
    {
      "cell_type": "markdown",
      "id": "f0a1cbbb-4744-41cb-8910-f5c1355555fb",
      "metadata": {
        "id": "f0a1cbbb-4744-41cb-8910-f5c1355555fb"
      },
      "source": [
        "- The naive implementation above can suffer from numerical instability issues for large or small input values due to overflow and underflow issues\n",
        "- Hence, in practice, it's recommended to use the PyTorch implementation of softmax instead, which has been highly optimized for performance:"
      ]
    },
    {
      "cell_type": "code",
      "execution_count": 8,
      "id": "2d99cac4-45ea-46b3-b3c1-e000ad16e158",
      "metadata": {
        "colab": {
          "base_uri": "https://localhost:8080/"
        },
        "id": "2d99cac4-45ea-46b3-b3c1-e000ad16e158",
        "outputId": "b15f658e-33eb-4d9b-a731-ef96742df401"
      },
      "outputs": [
        {
          "output_type": "stream",
          "name": "stdout",
          "text": [
            "Attention weights: tensor([0.1385, 0.2379, 0.2333, 0.1240, 0.1082, 0.1581])\n",
            "Sum: tensor(1.)\n"
          ]
        }
      ],
      "source": [
        "attn_weights_2 = torch.softmax(attn_scores_2, dim=0)\n",
        "\n",
        "print(\"Attention weights:\", attn_weights_2)\n",
        "print(\"Sum:\", attn_weights_2.sum())"
      ]
    },
    {
      "cell_type": "markdown",
      "id": "e43e36c7-90b2-427f-94f6-bb9d31b2ab3f",
      "metadata": {
        "id": "e43e36c7-90b2-427f-94f6-bb9d31b2ab3f"
      },
      "source": [
        "- **Step 3**: compute the context vector $z^{(2)}$ by multiplying the embedded input tokens, $x^{(i)}$ with the attention weights and sum the resulting vectors:"
      ]
    },
    {
      "cell_type": "markdown",
      "id": "f1c9f5ac-8d3d-4847-94e3-fd783b7d4d3d",
      "metadata": {
        "id": "f1c9f5ac-8d3d-4847-94e3-fd783b7d4d3d"
      },
      "source": [
        "<img src=\"https://sebastianraschka.com/images/LLMs-from-scratch-images/ch03_compressed/10.webp\" width=\"500px\">"
      ]
    },
    {
      "cell_type": "code",
      "execution_count": 9,
      "id": "8fcb96f0-14e5-4973-a50e-79ea7c6af99f",
      "metadata": {
        "colab": {
          "base_uri": "https://localhost:8080/"
        },
        "id": "8fcb96f0-14e5-4973-a50e-79ea7c6af99f",
        "outputId": "929a3180-6245-4c90-9e99-6b5e4ab0738a"
      },
      "outputs": [
        {
          "output_type": "stream",
          "name": "stdout",
          "text": [
            "tensor([0.4419, 0.6515, 0.5683])\n"
          ]
        }
      ],
      "source": [
        "query = inputs[1] # 2nd input token is the query\n",
        "\n",
        "context_vec_2 = torch.zeros(query.shape)\n",
        "for i,x_i in enumerate(inputs):\n",
        "    context_vec_2 += attn_weights_2[i]*x_i\n",
        "\n",
        "print(context_vec_2)"
      ]
    },
    {
      "cell_type": "markdown",
      "id": "5a454262-40eb-430e-9ca4-e43fb8d6cd89",
      "metadata": {
        "id": "5a454262-40eb-430e-9ca4-e43fb8d6cd89"
      },
      "source": [
        "### 3.3.2 Computing attention weights for all input tokens"
      ]
    },
    {
      "cell_type": "markdown",
      "id": "6a02bb73-fc19-4c88-b155-8314de5d63a8",
      "metadata": {
        "id": "6a02bb73-fc19-4c88-b155-8314de5d63a8"
      },
      "source": [
        "#### Generalize to all input sequence tokens:\n",
        "\n",
        "- Above, we computed the attention weights and context vector for input 2 (as illustrated in the highlighted row in the figure below)\n",
        "- Next, we are generalizing this computation to compute all attention weights and context vectors"
      ]
    },
    {
      "cell_type": "markdown",
      "id": "11c0fb55-394f-42f4-ba07-d01ae5c98ab4",
      "metadata": {
        "id": "11c0fb55-394f-42f4-ba07-d01ae5c98ab4"
      },
      "source": [
        "<img src=\"https://sebastianraschka.com/images/LLMs-from-scratch-images/ch03_compressed/11.webp\" width=\"400px\">\n",
        "\n",
        "- (Please note that the numbers in this figure are truncated to two\n",
        "digits after the decimal point to reduce visual clutter; the values in each row should add up to 1.0 or 100%; similarly, digits in other figures are truncated)"
      ]
    },
    {
      "cell_type": "markdown",
      "id": "b789b990-fb51-4beb-9212-bf58876b5983",
      "metadata": {
        "id": "b789b990-fb51-4beb-9212-bf58876b5983"
      },
      "source": [
        "- In self-attention, the process starts with the calculation of attention scores, which are subsequently normalized to derive attention weights that total 1\n",
        "- These attention weights are then utilized to generate the context vectors through a weighted summation of the inputs"
      ]
    },
    {
      "cell_type": "markdown",
      "id": "d9bffe4b-56fe-4c37-9762-24bd924b7d3c",
      "metadata": {
        "id": "d9bffe4b-56fe-4c37-9762-24bd924b7d3c"
      },
      "source": [
        "<img src=\"https://sebastianraschka.com/images/LLMs-from-scratch-images/ch03_compressed/12.webp\" width=\"400px\">"
      ]
    },
    {
      "cell_type": "markdown",
      "id": "aa652506-f2c8-473c-a905-85c389c842cc",
      "metadata": {
        "id": "aa652506-f2c8-473c-a905-85c389c842cc"
      },
      "source": [
        "- Apply previous **step 1** to all pairwise elements to compute the unnormalized attention score matrix:"
      ]
    },
    {
      "cell_type": "code",
      "execution_count": 10,
      "id": "04004be8-07a1-468b-ab33-32e16a551b45",
      "metadata": {
        "colab": {
          "base_uri": "https://localhost:8080/"
        },
        "id": "04004be8-07a1-468b-ab33-32e16a551b45",
        "outputId": "cfda792d-ad68-4ce9-e0f4-9c5a558a9304"
      },
      "outputs": [
        {
          "output_type": "stream",
          "name": "stdout",
          "text": [
            "tensor([[0.9995, 0.9544, 0.9422, 0.4753, 0.4576, 0.6310],\n",
            "        [0.9544, 1.4950, 1.4754, 0.8434, 0.7070, 1.0865],\n",
            "        [0.9422, 1.4754, 1.4570, 0.8296, 0.7154, 1.0605],\n",
            "        [0.4753, 0.8434, 0.8296, 0.4937, 0.3474, 0.6565],\n",
            "        [0.4576, 0.7070, 0.7154, 0.3474, 0.6654, 0.2935],\n",
            "        [0.6310, 1.0865, 1.0605, 0.6565, 0.2935, 0.9450]])\n"
          ]
        }
      ],
      "source": [
        "attn_scores = torch.empty(6, 6)\n",
        "\n",
        "for i, x_i in enumerate(inputs):\n",
        "    for j, x_j in enumerate(inputs):\n",
        "        attn_scores[i, j] = torch.dot(x_i, x_j)\n",
        "\n",
        "print(attn_scores)"
      ]
    },
    {
      "cell_type": "markdown",
      "id": "1539187f-1ece-47b7-bc9b-65a97115f1d4",
      "metadata": {
        "id": "1539187f-1ece-47b7-bc9b-65a97115f1d4"
      },
      "source": [
        "- We can achieve the same as above more efficiently via matrix multiplication:"
      ]
    },
    {
      "cell_type": "code",
      "execution_count": 11,
      "id": "2cea69d0-9a47-45da-8d5a-47ceef2df673",
      "metadata": {
        "colab": {
          "base_uri": "https://localhost:8080/"
        },
        "id": "2cea69d0-9a47-45da-8d5a-47ceef2df673",
        "outputId": "4037ac78-cd35-4629-8f67-3058e6838c17"
      },
      "outputs": [
        {
          "output_type": "stream",
          "name": "stdout",
          "text": [
            "tensor([[0.9995, 0.9544, 0.9422, 0.4753, 0.4576, 0.6310],\n",
            "        [0.9544, 1.4950, 1.4754, 0.8434, 0.7070, 1.0865],\n",
            "        [0.9422, 1.4754, 1.4570, 0.8296, 0.7154, 1.0605],\n",
            "        [0.4753, 0.8434, 0.8296, 0.4937, 0.3474, 0.6565],\n",
            "        [0.4576, 0.7070, 0.7154, 0.3474, 0.6654, 0.2935],\n",
            "        [0.6310, 1.0865, 1.0605, 0.6565, 0.2935, 0.9450]])\n"
          ]
        }
      ],
      "source": [
        "attn_scores = inputs @ inputs.T\n",
        "print(attn_scores)"
      ]
    },
    {
      "cell_type": "markdown",
      "id": "02c4bac4-acfd-427f-9b11-c436ac71748d",
      "metadata": {
        "id": "02c4bac4-acfd-427f-9b11-c436ac71748d"
      },
      "source": [
        "- Similar to **step 2** previously, we normalize each row so that the values in each row sum to 1:"
      ]
    },
    {
      "cell_type": "code",
      "execution_count": 12,
      "id": "fa4ef062-de81-47ee-8415-bfe1708c81b8",
      "metadata": {
        "colab": {
          "base_uri": "https://localhost:8080/"
        },
        "id": "fa4ef062-de81-47ee-8415-bfe1708c81b8",
        "outputId": "fa4a89e3-1d72-4b40-b32e-93d613db5cfe"
      },
      "outputs": [
        {
          "output_type": "stream",
          "name": "stdout",
          "text": [
            "tensor([[0.2098, 0.2006, 0.1981, 0.1242, 0.1220, 0.1452],\n",
            "        [0.1385, 0.2379, 0.2333, 0.1240, 0.1082, 0.1581],\n",
            "        [0.1390, 0.2369, 0.2326, 0.1242, 0.1108, 0.1565],\n",
            "        [0.1435, 0.2074, 0.2046, 0.1462, 0.1263, 0.1720],\n",
            "        [0.1526, 0.1958, 0.1975, 0.1367, 0.1879, 0.1295],\n",
            "        [0.1385, 0.2184, 0.2128, 0.1420, 0.0988, 0.1896]])\n"
          ]
        }
      ],
      "source": [
        "attn_weights = torch.softmax(attn_scores, dim=-1)\n",
        "print(attn_weights)"
      ]
    },
    {
      "cell_type": "markdown",
      "id": "3fa6d02b-7f15-4eb4-83a7-0b8a819e7a0c",
      "metadata": {
        "id": "3fa6d02b-7f15-4eb4-83a7-0b8a819e7a0c"
      },
      "source": [
        "- Quick verification that the values in each row indeed sum to 1:"
      ]
    },
    {
      "cell_type": "code",
      "execution_count": 13,
      "id": "112b492c-fb6f-4e6d-8df5-518ae83363d5",
      "metadata": {
        "colab": {
          "base_uri": "https://localhost:8080/"
        },
        "id": "112b492c-fb6f-4e6d-8df5-518ae83363d5",
        "outputId": "ed537ae4-adb3-4ee8-f7a5-d76782558717"
      },
      "outputs": [
        {
          "output_type": "stream",
          "name": "stdout",
          "text": [
            "Row 2 sum: 1.0\n",
            "All row sums: tensor([1.0000, 1.0000, 1.0000, 1.0000, 1.0000, 1.0000])\n"
          ]
        }
      ],
      "source": [
        "row_2_sum = sum([0.1385, 0.2379, 0.2333, 0.1240, 0.1082, 0.1581])\n",
        "print(\"Row 2 sum:\", row_2_sum)\n",
        "\n",
        "print(\"All row sums:\", attn_weights.sum(dim=-1))"
      ]
    },
    {
      "cell_type": "markdown",
      "id": "138b0b5c-d813-44c7-b373-fde9540ddfd1",
      "metadata": {
        "id": "138b0b5c-d813-44c7-b373-fde9540ddfd1"
      },
      "source": [
        "- Apply previous **step 3** to compute all context vectors:"
      ]
    },
    {
      "cell_type": "code",
      "execution_count": 14,
      "id": "ba8eafcf-f7f7-4989-b8dc-61b50c4f81dc",
      "metadata": {
        "colab": {
          "base_uri": "https://localhost:8080/"
        },
        "id": "ba8eafcf-f7f7-4989-b8dc-61b50c4f81dc",
        "outputId": "f04f3fe7-65ba-4bed-d9e1-502f0113259a"
      },
      "outputs": [
        {
          "output_type": "stream",
          "name": "stdout",
          "text": [
            "tensor([[0.4421, 0.5931, 0.5790],\n",
            "        [0.4419, 0.6515, 0.5683],\n",
            "        [0.4431, 0.6496, 0.5671],\n",
            "        [0.4304, 0.6298, 0.5510],\n",
            "        [0.4671, 0.5910, 0.5266],\n",
            "        [0.4177, 0.6503, 0.5645]])\n"
          ]
        }
      ],
      "source": [
        "all_context_vecs = attn_weights @ inputs\n",
        "print(all_context_vecs)"
      ]
    },
    {
      "cell_type": "markdown",
      "id": "25b245b8-7732-4fab-aa1c-e3d333195605",
      "metadata": {
        "id": "25b245b8-7732-4fab-aa1c-e3d333195605"
      },
      "source": [
        "- As a sanity check, the previously computed context vector $z^{(2)} = [0.4419, 0.6515, 0.5683]$ can be found in the 2nd row in above:"
      ]
    },
    {
      "cell_type": "code",
      "execution_count": 15,
      "id": "2570eb7d-aee1-457a-a61e-7544478219fa",
      "metadata": {
        "colab": {
          "base_uri": "https://localhost:8080/"
        },
        "id": "2570eb7d-aee1-457a-a61e-7544478219fa",
        "outputId": "f5e22091-059a-4bd5-c9ca-a86d1d9a001c"
      },
      "outputs": [
        {
          "output_type": "stream",
          "name": "stdout",
          "text": [
            "Previous 2nd context vector: tensor([0.4419, 0.6515, 0.5683])\n"
          ]
        }
      ],
      "source": [
        "print(\"Previous 2nd context vector:\", context_vec_2)"
      ]
    },
    {
      "cell_type": "markdown",
      "id": "a303b6fb-9f7e-42bb-9fdb-2adabf0a6525",
      "metadata": {
        "id": "a303b6fb-9f7e-42bb-9fdb-2adabf0a6525"
      },
      "source": [
        "## 3.4 Implementing self-attention with trainable weights"
      ]
    },
    {
      "cell_type": "markdown",
      "id": "88363117-93d8-41fb-8240-f7cfe08b14a3",
      "metadata": {
        "id": "88363117-93d8-41fb-8240-f7cfe08b14a3"
      },
      "source": [
        "- A conceptual framework illustrating how the self-attention mechanism developed in this section integrates into the overall narrative and structure of this book and chapter"
      ]
    },
    {
      "cell_type": "markdown",
      "id": "ac9492ba-6f66-4f65-bd1d-87cf16d59928",
      "metadata": {
        "id": "ac9492ba-6f66-4f65-bd1d-87cf16d59928"
      },
      "source": [
        "<img src=\"https://sebastianraschka.com/images/LLMs-from-scratch-images/ch03_compressed/13.webp\" width=\"400px\">"
      ]
    },
    {
      "cell_type": "markdown",
      "id": "2b90a77e-d746-4704-9354-1ddad86e6298",
      "metadata": {
        "id": "2b90a77e-d746-4704-9354-1ddad86e6298"
      },
      "source": [
        "### 3.4.1 Computing the attention weights step by step"
      ]
    },
    {
      "cell_type": "markdown",
      "id": "46e95a46-1f67-4b71-9e84-8e2db84ab036",
      "metadata": {
        "id": "46e95a46-1f67-4b71-9e84-8e2db84ab036"
      },
      "source": [
        "- In this section, we are implementing the self-attention mechanism that is used in the original transformer architecture, the GPT models, and most other popular LLMs\n",
        "- This self-attention mechanism is also called \"scaled dot-product attention\"\n",
        "- The overall idea is similar to before:\n",
        "  - We want to compute context vectors as weighted sums over the input vectors specific to a certain input element\n",
        "  - For the above, we need attention weights\n",
        "- As you will see, there are only slight differences compared to the basic attention mechanism introduced earlier:\n",
        "  - The most notable difference is the introduction of weight matrices that are updated during model training\n",
        "  - These trainable weight matrices are crucial so that the model (specifically, the attention module inside the model) can learn to produce \"good\" context vectors"
      ]
    },
    {
      "cell_type": "markdown",
      "id": "59db4093-93e8-4bee-be8f-c8fac8a08cdd",
      "metadata": {
        "id": "59db4093-93e8-4bee-be8f-c8fac8a08cdd"
      },
      "source": [
        "<img src=\"https://sebastianraschka.com/images/LLMs-from-scratch-images/ch03_compressed/14.webp\" width=\"600px\">"
      ]
    },
    {
      "cell_type": "markdown",
      "id": "4d996671-87aa-45c9-b2e0-07a7bcc9060a",
      "metadata": {
        "id": "4d996671-87aa-45c9-b2e0-07a7bcc9060a"
      },
      "source": [
        "- Implementing the self-attention mechanism step by step, we will start by introducing the three training weight matrices $W_q$, $W_k$, and $W_v$\n",
        "- These three matrices are used to project the embedded input tokens, $x^{(i)}$, into query, key, and value vectors via matrix multiplication:\n",
        "\n",
        "  - Query vector: $q^{(i)} = W_q \\,x^{(i)}$\n",
        "  - Key vector: $k^{(i)} = W_k \\,x^{(i)}$\n",
        "  - Value vector: $v^{(i)} = W_v \\,x^{(i)}$\n"
      ]
    },
    {
      "cell_type": "markdown",
      "id": "9f334313-5fd0-477b-8728-04080a427049",
      "metadata": {
        "id": "9f334313-5fd0-477b-8728-04080a427049"
      },
      "source": [
        "- The embedding dimensions of the input $x$ and the query vector $q$ can be the same or different, depending on the model's design and specific implementation\n",
        "- In GPT models, the input and output dimensions are usually the same, but for illustration purposes, to better follow the computation, we choose different input and output dimensions here:"
      ]
    },
    {
      "cell_type": "code",
      "execution_count": 16,
      "id": "8250fdc6-6cd6-4c5b-b9c0-8c643aadb7db",
      "metadata": {
        "id": "8250fdc6-6cd6-4c5b-b9c0-8c643aadb7db"
      },
      "outputs": [],
      "source": [
        "x_2 = inputs[1] # second input element\n",
        "d_in = inputs.shape[1] # the input embedding size, d=3\n",
        "d_out = 2 # the output embedding size, d=2"
      ]
    },
    {
      "cell_type": "markdown",
      "id": "f528cfb3-e226-47dd-b363-cc2caaeba4bf",
      "metadata": {
        "id": "f528cfb3-e226-47dd-b363-cc2caaeba4bf"
      },
      "source": [
        "- Below, we initialize the three weight matrices; note that we are setting `requires_grad=False` to reduce clutter in the outputs for illustration purposes, but if we were to use the weight matrices for model training, we would set `requires_grad=True` to update these matrices during model training"
      ]
    },
    {
      "cell_type": "code",
      "execution_count": 17,
      "id": "bfd7259a-f26c-4cea-b8fc-282b5cae1e00",
      "metadata": {
        "id": "bfd7259a-f26c-4cea-b8fc-282b5cae1e00"
      },
      "outputs": [],
      "source": [
        "torch.manual_seed(123)\n",
        "\n",
        "W_query = torch.nn.Parameter(torch.rand(d_in, d_out), requires_grad=False)\n",
        "W_key   = torch.nn.Parameter(torch.rand(d_in, d_out), requires_grad=False)\n",
        "W_value = torch.nn.Parameter(torch.rand(d_in, d_out), requires_grad=False)"
      ]
    },
    {
      "cell_type": "markdown",
      "id": "abfd0b50-7701-4adb-821c-e5433622d9c4",
      "metadata": {
        "id": "abfd0b50-7701-4adb-821c-e5433622d9c4"
      },
      "source": [
        "- Next we compute the query, key, and value vectors:"
      ]
    },
    {
      "cell_type": "code",
      "execution_count": 18,
      "id": "73cedd62-01e1-4196-a575-baecc6095601",
      "metadata": {
        "colab": {
          "base_uri": "https://localhost:8080/"
        },
        "id": "73cedd62-01e1-4196-a575-baecc6095601",
        "outputId": "bab962ca-ffe2-4112-e0bb-c4f75538130d"
      },
      "outputs": [
        {
          "output_type": "stream",
          "name": "stdout",
          "text": [
            "tensor([0.4306, 1.4551])\n"
          ]
        }
      ],
      "source": [
        "query_2 = x_2 @ W_query # _2 because it's with respect to the 2nd input element\n",
        "key_2 = x_2 @ W_key\n",
        "value_2 = x_2 @ W_value\n",
        "\n",
        "print(query_2)"
      ]
    },
    {
      "cell_type": "markdown",
      "id": "9be308b3-aca3-421b-b182-19c3a03b71c7",
      "metadata": {
        "id": "9be308b3-aca3-421b-b182-19c3a03b71c7"
      },
      "source": [
        "- As we can see below, we successfully projected the 6 input tokens from a 3D onto a 2D embedding space:"
      ]
    },
    {
      "cell_type": "code",
      "execution_count": 19,
      "id": "8c1c3949-fc08-4d19-a41e-1c235b4e631b",
      "metadata": {
        "colab": {
          "base_uri": "https://localhost:8080/"
        },
        "id": "8c1c3949-fc08-4d19-a41e-1c235b4e631b",
        "outputId": "ea4783a2-a9d8-4bbc-d3c0-d9c0a767a0a2"
      },
      "outputs": [
        {
          "output_type": "stream",
          "name": "stdout",
          "text": [
            "keys.shape: torch.Size([6, 2])\n",
            "values.shape: torch.Size([6, 2])\n"
          ]
        }
      ],
      "source": [
        "keys = inputs @ W_key\n",
        "values = inputs @ W_value\n",
        "\n",
        "print(\"keys.shape:\", keys.shape)\n",
        "print(\"values.shape:\", values.shape)"
      ]
    },
    {
      "cell_type": "markdown",
      "id": "bac5dfd6-ade8-4e7b-b0c1-bed40aa24481",
      "metadata": {
        "id": "bac5dfd6-ade8-4e7b-b0c1-bed40aa24481"
      },
      "source": [
        "- In the next step, **step 2**, we compute the unnormalized attention scores by computing the dot product between the query and each key vector:"
      ]
    },
    {
      "cell_type": "markdown",
      "id": "8ed0a2b7-5c50-4ede-90cf-7ad74412b3aa",
      "metadata": {
        "id": "8ed0a2b7-5c50-4ede-90cf-7ad74412b3aa"
      },
      "source": [
        "<img src=\"https://sebastianraschka.com/images/LLMs-from-scratch-images/ch03_compressed/15.webp\" width=\"600px\">"
      ]
    },
    {
      "cell_type": "code",
      "execution_count": 20,
      "id": "64cbc253-a182-4490-a765-246979ea0a28",
      "metadata": {
        "colab": {
          "base_uri": "https://localhost:8080/"
        },
        "id": "64cbc253-a182-4490-a765-246979ea0a28",
        "outputId": "aa6d47d2-4d32-4c10-acf6-f09d32978d3a"
      },
      "outputs": [
        {
          "output_type": "stream",
          "name": "stdout",
          "text": [
            "tensor(1.8524)\n"
          ]
        }
      ],
      "source": [
        "keys_2 = keys[1] # Python starts index at 0\n",
        "attn_score_22 = query_2.dot(keys_2)\n",
        "print(attn_score_22)"
      ]
    },
    {
      "cell_type": "markdown",
      "id": "9e9d15c0-c24e-4e6f-a160-6349b418f935",
      "metadata": {
        "id": "9e9d15c0-c24e-4e6f-a160-6349b418f935"
      },
      "source": [
        "- Since we have 6 inputs, we have 6 attention scores for the given query vector:"
      ]
    },
    {
      "cell_type": "code",
      "execution_count": 21,
      "id": "b14e44b5-d170-40f9-8847-8990804af26d",
      "metadata": {
        "colab": {
          "base_uri": "https://localhost:8080/"
        },
        "id": "b14e44b5-d170-40f9-8847-8990804af26d",
        "outputId": "5244bc74-e660-457c-a2fe-f45d74062bab"
      },
      "outputs": [
        {
          "output_type": "stream",
          "name": "stdout",
          "text": [
            "tensor([1.2705, 1.8524, 1.8111, 1.0795, 0.5577, 1.5440])\n"
          ]
        }
      ],
      "source": [
        "attn_scores_2 = query_2 @ keys.T # All attention scores for given query\n",
        "print(attn_scores_2)"
      ]
    },
    {
      "cell_type": "markdown",
      "id": "8622cf39-155f-4eb5-a0c0-82a03ce9b999",
      "metadata": {
        "id": "8622cf39-155f-4eb5-a0c0-82a03ce9b999"
      },
      "source": [
        "<img src=\"https://sebastianraschka.com/images/LLMs-from-scratch-images/ch03_compressed/16.webp\" width=\"600px\">"
      ]
    },
    {
      "cell_type": "markdown",
      "id": "e1609edb-f089-461a-8de2-c20c1bb29836",
      "metadata": {
        "id": "e1609edb-f089-461a-8de2-c20c1bb29836"
      },
      "source": [
        "- Next, in **step 3**, we compute the attention weights (normalized attention scores that sum up to 1) using the softmax function we used earlier\n",
        "- The difference to earlier is that we now scale the attention scores by dividing them by the square root of the embedding dimension, $\\sqrt{d_k}$ (i.e., `d_k**0.5`):"
      ]
    },
    {
      "cell_type": "code",
      "execution_count": 22,
      "id": "146f5587-c845-4e30-9894-c7ed3a248153",
      "metadata": {
        "colab": {
          "base_uri": "https://localhost:8080/"
        },
        "id": "146f5587-c845-4e30-9894-c7ed3a248153",
        "outputId": "e736f035-da62-4347-9df9-2202ae82891a"
      },
      "outputs": [
        {
          "output_type": "stream",
          "name": "stdout",
          "text": [
            "tensor([0.1500, 0.2264, 0.2199, 0.1311, 0.0906, 0.1820])\n"
          ]
        }
      ],
      "source": [
        "d_k = keys.shape[1]\n",
        "attn_weights_2 = torch.softmax(attn_scores_2 / d_k**0.5, dim=-1)\n",
        "print(attn_weights_2)"
      ]
    },
    {
      "cell_type": "markdown",
      "id": "b8f61a28-b103-434a-aee1-ae7cbd821126",
      "metadata": {
        "id": "b8f61a28-b103-434a-aee1-ae7cbd821126"
      },
      "source": [
        "<img src=\"https://sebastianraschka.com/images/LLMs-from-scratch-images/ch03_compressed/17.webp\" width=\"600px\">"
      ]
    },
    {
      "cell_type": "markdown",
      "id": "1890e3f9-db86-4ab8-9f3b-53113504a61f",
      "metadata": {
        "id": "1890e3f9-db86-4ab8-9f3b-53113504a61f"
      },
      "source": [
        "- In **step 4**, we now compute the context vector for input query vector 2:"
      ]
    },
    {
      "cell_type": "code",
      "execution_count": 23,
      "id": "e138f033-fa7e-4e3a-8764-b53a96b26397",
      "metadata": {
        "colab": {
          "base_uri": "https://localhost:8080/"
        },
        "id": "e138f033-fa7e-4e3a-8764-b53a96b26397",
        "outputId": "d08aa4b4-d4f6-42e5-9fb0-cbbe1a05ca25"
      },
      "outputs": [
        {
          "output_type": "stream",
          "name": "stdout",
          "text": [
            "tensor([0.3061, 0.8210])\n"
          ]
        }
      ],
      "source": [
        "context_vec_2 = attn_weights_2 @ values\n",
        "print(context_vec_2)"
      ]
    },
    {
      "cell_type": "markdown",
      "id": "9d7b2907-e448-473e-b46c-77735a7281d8",
      "metadata": {
        "id": "9d7b2907-e448-473e-b46c-77735a7281d8"
      },
      "source": [
        "### 3.4.2 Implementing a compact SelfAttention class"
      ]
    },
    {
      "cell_type": "markdown",
      "id": "04313410-3155-4d90-a7a3-2f3386e73677",
      "metadata": {
        "id": "04313410-3155-4d90-a7a3-2f3386e73677"
      },
      "source": [
        "- Putting it all together, we can implement the self-attention mechanism as follows:"
      ]
    },
    {
      "cell_type": "code",
      "execution_count": 24,
      "id": "51590326-cdbe-4e62-93b1-17df71c11ee4",
      "metadata": {
        "colab": {
          "base_uri": "https://localhost:8080/"
        },
        "id": "51590326-cdbe-4e62-93b1-17df71c11ee4",
        "outputId": "99605bd3-f4a2-46ea-cabb-b4bc5e3a60ed"
      },
      "outputs": [
        {
          "output_type": "stream",
          "name": "stdout",
          "text": [
            "tensor([[0.2996, 0.8053],\n",
            "        [0.3061, 0.8210],\n",
            "        [0.3058, 0.8203],\n",
            "        [0.2948, 0.7939],\n",
            "        [0.2927, 0.7891],\n",
            "        [0.2990, 0.8040]], grad_fn=<MmBackward0>)\n"
          ]
        }
      ],
      "source": [
        "import torch.nn as nn\n",
        "\n",
        "class SelfAttention_v1(nn.Module):\n",
        "\n",
        "    def __init__(self, d_in, d_out):\n",
        "        super().__init__()\n",
        "        self.W_query = nn.Parameter(torch.rand(d_in, d_out))\n",
        "        self.W_key   = nn.Parameter(torch.rand(d_in, d_out))\n",
        "        self.W_value = nn.Parameter(torch.rand(d_in, d_out))\n",
        "\n",
        "    def forward(self, x):\n",
        "        keys = x @ self.W_key\n",
        "        queries = x @ self.W_query\n",
        "        values = x @ self.W_value\n",
        "\n",
        "        attn_scores = queries @ keys.T # omega\n",
        "        attn_weights = torch.softmax(\n",
        "            attn_scores / keys.shape[-1]**0.5, dim=-1\n",
        "        )\n",
        "\n",
        "        context_vec = attn_weights @ values\n",
        "        return context_vec\n",
        "\n",
        "torch.manual_seed(123)\n",
        "sa_v1 = SelfAttention_v1(d_in, d_out)\n",
        "print(sa_v1(inputs))"
      ]
    },
    {
      "cell_type": "markdown",
      "id": "7ee1a024-84a5-425a-9567-54ab4e4ed445",
      "metadata": {
        "id": "7ee1a024-84a5-425a-9567-54ab4e4ed445"
      },
      "source": [
        "<img src=\"https://sebastianraschka.com/images/LLMs-from-scratch-images/ch03_compressed/18.webp\" width=\"400px\">"
      ]
    },
    {
      "cell_type": "markdown",
      "id": "048e0c16-d911-4ec8-b0bc-45ceec75c081",
      "metadata": {
        "id": "048e0c16-d911-4ec8-b0bc-45ceec75c081"
      },
      "source": [
        "- We can streamline the implementation above using PyTorch's Linear layers, which are equivalent to a matrix multiplication if we disable the bias units\n",
        "- Another big advantage of using `nn.Linear` over our manual `nn.Parameter(torch.rand(...)` approach is that `nn.Linear` has a preferred weight initialization scheme, which leads to more stable model training"
      ]
    },
    {
      "cell_type": "code",
      "execution_count": 25,
      "id": "73f411e3-e231-464a-89fe-0a9035e5f839",
      "metadata": {
        "colab": {
          "base_uri": "https://localhost:8080/"
        },
        "id": "73f411e3-e231-464a-89fe-0a9035e5f839",
        "outputId": "397b2219-3b49-4eeb-9665-5c9b717955ab"
      },
      "outputs": [
        {
          "output_type": "stream",
          "name": "stdout",
          "text": [
            "tensor([[-0.0739,  0.0713],\n",
            "        [-0.0748,  0.0703],\n",
            "        [-0.0749,  0.0702],\n",
            "        [-0.0760,  0.0685],\n",
            "        [-0.0763,  0.0679],\n",
            "        [-0.0754,  0.0693]], grad_fn=<MmBackward0>)\n"
          ]
        }
      ],
      "source": [
        "class SelfAttention_v2(nn.Module):\n",
        "\n",
        "    def __init__(self, d_in, d_out, qkv_bias=False):\n",
        "        super().__init__()\n",
        "        self.W_query = nn.Linear(d_in, d_out, bias=qkv_bias)\n",
        "        self.W_key   = nn.Linear(d_in, d_out, bias=qkv_bias)\n",
        "        self.W_value = nn.Linear(d_in, d_out, bias=qkv_bias)\n",
        "\n",
        "    def forward(self, x):\n",
        "        keys = self.W_key(x)\n",
        "        queries = self.W_query(x)\n",
        "        values = self.W_value(x)\n",
        "\n",
        "        attn_scores = queries @ keys.T\n",
        "        attn_weights = torch.softmax(attn_scores / keys.shape[-1]**0.5, dim=-1)\n",
        "\n",
        "        context_vec = attn_weights @ values\n",
        "        return context_vec\n",
        "\n",
        "torch.manual_seed(789)\n",
        "sa_v2 = SelfAttention_v2(d_in, d_out)\n",
        "print(sa_v2(inputs))"
      ]
    },
    {
      "cell_type": "markdown",
      "id": "915cd8a5-a895-42c9-8b8e-06b5ae19ffce",
      "metadata": {
        "id": "915cd8a5-a895-42c9-8b8e-06b5ae19ffce"
      },
      "source": [
        "- Note that `SelfAttention_v1` and `SelfAttention_v2` give different outputs because they use different initial weights for the weight matrices"
      ]
    },
    {
      "cell_type": "markdown",
      "id": "c5025b37-0f2c-4a67-a7cb-1286af7026ab",
      "metadata": {
        "id": "c5025b37-0f2c-4a67-a7cb-1286af7026ab"
      },
      "source": [
        "## 3.5 Hiding future words with causal attention"
      ]
    },
    {
      "cell_type": "markdown",
      "id": "aef0a6b8-205a-45bf-9d26-8fd77a8a03c3",
      "metadata": {
        "id": "aef0a6b8-205a-45bf-9d26-8fd77a8a03c3"
      },
      "source": [
        "- In causal attention, the attention weights above the diagonal are masked, ensuring that for any given input, the LLM is unable to utilize future tokens while calculating the context vectors with the attention weight"
      ]
    },
    {
      "cell_type": "markdown",
      "id": "71e91bb5-5aae-4f05-8a95-973b3f988a35",
      "metadata": {
        "id": "71e91bb5-5aae-4f05-8a95-973b3f988a35"
      },
      "source": [
        "<img src=\"https://sebastianraschka.com/images/LLMs-from-scratch-images/ch03_compressed/19.webp\" width=\"400px\">"
      ]
    },
    {
      "cell_type": "markdown",
      "id": "82f405de-cd86-4e72-8f3c-9ea0354946ba",
      "metadata": {
        "id": "82f405de-cd86-4e72-8f3c-9ea0354946ba"
      },
      "source": [
        "### 3.5.1 Applying a causal attention mask"
      ]
    },
    {
      "cell_type": "markdown",
      "id": "014f28d0-8218-48e4-8b9c-bdc5ce489218",
      "metadata": {
        "id": "014f28d0-8218-48e4-8b9c-bdc5ce489218"
      },
      "source": [
        "- In this section, we are converting the previous self-attention mechanism into a causal self-attention mechanism\n",
        "- Causal self-attention ensures that the model's prediction for a certain position in a sequence is only dependent on the known outputs at previous positions, not on future positions\n",
        "- In simpler words, this ensures that each next word prediction should only depend on the preceding words\n",
        "- To achieve this, for each given token, we mask out the future tokens (the ones that come after the current token in the input text):"
      ]
    },
    {
      "cell_type": "markdown",
      "id": "57f99af3-32bc-48f5-8eb4-63504670ca0a",
      "metadata": {
        "id": "57f99af3-32bc-48f5-8eb4-63504670ca0a"
      },
      "source": [
        "<img src=\"https://sebastianraschka.com/images/LLMs-from-scratch-images/ch03_compressed/20.webp\" width=\"600px\">"
      ]
    },
    {
      "cell_type": "markdown",
      "id": "cbfaec7a-68f2-4157-a4b5-2aeceed199d9",
      "metadata": {
        "id": "cbfaec7a-68f2-4157-a4b5-2aeceed199d9"
      },
      "source": [
        "- To illustrate and implement causal self-attention, let's work with the attention scores and weights from the previous section:"
      ]
    },
    {
      "cell_type": "code",
      "execution_count": 26,
      "id": "1933940d-0fa5-4b17-a3ce-388e5314a1bb",
      "metadata": {
        "colab": {
          "base_uri": "https://localhost:8080/"
        },
        "id": "1933940d-0fa5-4b17-a3ce-388e5314a1bb",
        "outputId": "c90b6398-db89-4e1a-dbfb-1b1033450ec3"
      },
      "outputs": [
        {
          "output_type": "stream",
          "name": "stdout",
          "text": [
            "tensor([[0.1921, 0.1646, 0.1652, 0.1550, 0.1721, 0.1510],\n",
            "        [0.2041, 0.1659, 0.1662, 0.1496, 0.1665, 0.1477],\n",
            "        [0.2036, 0.1659, 0.1662, 0.1498, 0.1664, 0.1480],\n",
            "        [0.1869, 0.1667, 0.1668, 0.1571, 0.1661, 0.1564],\n",
            "        [0.1830, 0.1669, 0.1670, 0.1588, 0.1658, 0.1585],\n",
            "        [0.1935, 0.1663, 0.1666, 0.1542, 0.1666, 0.1529]],\n",
            "       grad_fn=<SoftmaxBackward0>)\n"
          ]
        }
      ],
      "source": [
        "# Reuse the query and key weight matrices of the\n",
        "# SelfAttention_v2 object from the previous section for convenience\n",
        "queries = sa_v2.W_query(inputs)\n",
        "keys = sa_v2.W_key(inputs)\n",
        "attn_scores = queries @ keys.T\n",
        "\n",
        "attn_weights = torch.softmax(attn_scores / keys.shape[-1]**0.5, dim=-1)\n",
        "print(attn_weights)"
      ]
    },
    {
      "cell_type": "markdown",
      "id": "89020a96-b34d-41f8-9349-98c3e23fd5d6",
      "metadata": {
        "id": "89020a96-b34d-41f8-9349-98c3e23fd5d6"
      },
      "source": [
        "- The simplest way to mask out future attention weights is by creating a mask via PyTorch's tril function with elements below the main diagonal (including the diagonal itself) set to 1 and above the main diagonal set to 0:"
      ]
    },
    {
      "cell_type": "code",
      "execution_count": 27,
      "id": "43f3d2e3-185b-4184-9f98-edde5e6df746",
      "metadata": {
        "colab": {
          "base_uri": "https://localhost:8080/"
        },
        "id": "43f3d2e3-185b-4184-9f98-edde5e6df746",
        "outputId": "c19d07d3-bb27-40e2-c11d-a1e5fdbb5450"
      },
      "outputs": [
        {
          "output_type": "stream",
          "name": "stdout",
          "text": [
            "tensor([[1., 0., 0., 0., 0., 0.],\n",
            "        [1., 1., 0., 0., 0., 0.],\n",
            "        [1., 1., 1., 0., 0., 0.],\n",
            "        [1., 1., 1., 1., 0., 0.],\n",
            "        [1., 1., 1., 1., 1., 0.],\n",
            "        [1., 1., 1., 1., 1., 1.]])\n"
          ]
        }
      ],
      "source": [
        "context_length = attn_scores.shape[0]\n",
        "mask_simple = torch.tril(torch.ones(context_length, context_length))\n",
        "print(mask_simple)"
      ]
    },
    {
      "cell_type": "markdown",
      "id": "efce2b08-3583-44da-b3fc-cabdd38761f6",
      "metadata": {
        "id": "efce2b08-3583-44da-b3fc-cabdd38761f6"
      },
      "source": [
        "- Then, we can multiply the attention weights with this mask to zero out the attention scores above the diagonal:"
      ]
    },
    {
      "cell_type": "code",
      "execution_count": 28,
      "id": "9f531e2e-f4d2-4fea-a87f-4c132e48b9e7",
      "metadata": {
        "colab": {
          "base_uri": "https://localhost:8080/"
        },
        "id": "9f531e2e-f4d2-4fea-a87f-4c132e48b9e7",
        "outputId": "b41e2a3e-6111-48a8-cf3d-fb5ea9b0f1b0"
      },
      "outputs": [
        {
          "output_type": "stream",
          "name": "stdout",
          "text": [
            "tensor([[0.1921, 0.0000, 0.0000, 0.0000, 0.0000, 0.0000],\n",
            "        [0.2041, 0.1659, 0.0000, 0.0000, 0.0000, 0.0000],\n",
            "        [0.2036, 0.1659, 0.1662, 0.0000, 0.0000, 0.0000],\n",
            "        [0.1869, 0.1667, 0.1668, 0.1571, 0.0000, 0.0000],\n",
            "        [0.1830, 0.1669, 0.1670, 0.1588, 0.1658, 0.0000],\n",
            "        [0.1935, 0.1663, 0.1666, 0.1542, 0.1666, 0.1529]],\n",
            "       grad_fn=<MulBackward0>)\n"
          ]
        }
      ],
      "source": [
        "masked_simple = attn_weights*mask_simple\n",
        "print(masked_simple)"
      ]
    },
    {
      "cell_type": "markdown",
      "id": "3eb35787-cf12-4024-b66d-e7215e175500",
      "metadata": {
        "id": "3eb35787-cf12-4024-b66d-e7215e175500"
      },
      "source": [
        "- However, if the mask were applied after softmax, like above, it would disrupt the probability distribution created by softmax\n",
        "- Softmax ensures that all output values sum to 1\n",
        "- Masking after softmax would require re-normalizing the outputs to sum to 1 again, which complicates the process and might lead to unintended effects"
      ]
    },
    {
      "cell_type": "markdown",
      "id": "94db92d7-c397-4e42-bd8a-6a2b3e237e0f",
      "metadata": {
        "id": "94db92d7-c397-4e42-bd8a-6a2b3e237e0f"
      },
      "source": [
        "- To make sure that the rows sum to 1, we can normalize the attention weights as follows:"
      ]
    },
    {
      "cell_type": "code",
      "execution_count": 29,
      "id": "6d392083-fd81-4f70-9bdf-8db985e673d6",
      "metadata": {
        "colab": {
          "base_uri": "https://localhost:8080/"
        },
        "id": "6d392083-fd81-4f70-9bdf-8db985e673d6",
        "outputId": "20aa3093-ebc2-4875-a4d8-09eee4faed32"
      },
      "outputs": [
        {
          "output_type": "stream",
          "name": "stdout",
          "text": [
            "tensor([[1.0000, 0.0000, 0.0000, 0.0000, 0.0000, 0.0000],\n",
            "        [0.5517, 0.4483, 0.0000, 0.0000, 0.0000, 0.0000],\n",
            "        [0.3800, 0.3097, 0.3103, 0.0000, 0.0000, 0.0000],\n",
            "        [0.2758, 0.2460, 0.2462, 0.2319, 0.0000, 0.0000],\n",
            "        [0.2175, 0.1983, 0.1984, 0.1888, 0.1971, 0.0000],\n",
            "        [0.1935, 0.1663, 0.1666, 0.1542, 0.1666, 0.1529]],\n",
            "       grad_fn=<DivBackward0>)\n"
          ]
        }
      ],
      "source": [
        "row_sums = masked_simple.sum(dim=-1, keepdim=True)\n",
        "masked_simple_norm = masked_simple / row_sums\n",
        "print(masked_simple_norm)"
      ]
    },
    {
      "cell_type": "markdown",
      "id": "512e7cf4-dc0e-4cec-948e-c7a3c4eb6877",
      "metadata": {
        "id": "512e7cf4-dc0e-4cec-948e-c7a3c4eb6877"
      },
      "source": [
        "- While we are technically done with coding the causal attention mechanism now, let's briefly look at a more efficient approach to achieve the same as above\n",
        "- So, instead of zeroing out attention weights above the diagonal and renormalizing the results, we can mask the unnormalized attention scores above the diagonal with negative infinity before they enter the softmax function:"
      ]
    },
    {
      "cell_type": "markdown",
      "id": "eb682900-8df2-4767-946c-a82bee260188",
      "metadata": {
        "id": "eb682900-8df2-4767-946c-a82bee260188"
      },
      "source": [
        "<img src=\"https://sebastianraschka.com/images/LLMs-from-scratch-images/ch03_compressed/21.webp\" width=\"450px\">"
      ]
    },
    {
      "cell_type": "code",
      "execution_count": 30,
      "id": "a2be2f43-9cf0-44f6-8d8b-68ef2fb3cc39",
      "metadata": {
        "colab": {
          "base_uri": "https://localhost:8080/"
        },
        "id": "a2be2f43-9cf0-44f6-8d8b-68ef2fb3cc39",
        "outputId": "69e91157-01de-4818-c5a5-93a20d9d878b"
      },
      "outputs": [
        {
          "output_type": "stream",
          "name": "stdout",
          "text": [
            "tensor([[0.2899,   -inf,   -inf,   -inf,   -inf,   -inf],\n",
            "        [0.4656, 0.1723,   -inf,   -inf,   -inf,   -inf],\n",
            "        [0.4594, 0.1703, 0.1731,   -inf,   -inf,   -inf],\n",
            "        [0.2642, 0.1024, 0.1036, 0.0186,   -inf,   -inf],\n",
            "        [0.2183, 0.0874, 0.0882, 0.0177, 0.0786,   -inf],\n",
            "        [0.3408, 0.1270, 0.1290, 0.0198, 0.1290, 0.0078]],\n",
            "       grad_fn=<MaskedFillBackward0>)\n"
          ]
        }
      ],
      "source": [
        "mask = torch.triu(torch.ones(context_length, context_length), diagonal=1)\n",
        "masked = attn_scores.masked_fill(mask.bool(), -torch.inf)\n",
        "print(masked)"
      ]
    },
    {
      "cell_type": "markdown",
      "id": "91d5f803-d735-4543-b9da-00ac10fb9c50",
      "metadata": {
        "id": "91d5f803-d735-4543-b9da-00ac10fb9c50"
      },
      "source": [
        "- As we can see below, now the attention weights in each row correctly sum to 1 again:"
      ]
    },
    {
      "cell_type": "code",
      "execution_count": 31,
      "id": "b1cd6d7f-16f2-43c1-915e-0824f1a4bc52",
      "metadata": {
        "colab": {
          "base_uri": "https://localhost:8080/"
        },
        "id": "b1cd6d7f-16f2-43c1-915e-0824f1a4bc52",
        "outputId": "7960c903-b1f5-4662-86aa-3c21a80094bc"
      },
      "outputs": [
        {
          "output_type": "stream",
          "name": "stdout",
          "text": [
            "tensor([[1.0000, 0.0000, 0.0000, 0.0000, 0.0000, 0.0000],\n",
            "        [0.5517, 0.4483, 0.0000, 0.0000, 0.0000, 0.0000],\n",
            "        [0.3800, 0.3097, 0.3103, 0.0000, 0.0000, 0.0000],\n",
            "        [0.2758, 0.2460, 0.2462, 0.2319, 0.0000, 0.0000],\n",
            "        [0.2175, 0.1983, 0.1984, 0.1888, 0.1971, 0.0000],\n",
            "        [0.1935, 0.1663, 0.1666, 0.1542, 0.1666, 0.1529]],\n",
            "       grad_fn=<SoftmaxBackward0>)\n"
          ]
        }
      ],
      "source": [
        "attn_weights = torch.softmax(masked / keys.shape[-1]**0.5, dim=-1)\n",
        "print(attn_weights)"
      ]
    },
    {
      "cell_type": "markdown",
      "id": "7636fc5f-6bc6-461e-ac6a-99ec8e3c0912",
      "metadata": {
        "id": "7636fc5f-6bc6-461e-ac6a-99ec8e3c0912"
      },
      "source": [
        "### 3.5.2 Masking additional attention weights with dropout"
      ]
    },
    {
      "cell_type": "markdown",
      "id": "ec3dc7ee-6539-4fab-804a-8f31a890c85a",
      "metadata": {
        "id": "ec3dc7ee-6539-4fab-804a-8f31a890c85a"
      },
      "source": [
        "- In addition, we also apply dropout to reduce overfitting during training\n",
        "- Dropout can be applied in several places:\n",
        "  - for example, after computing the attention weights;\n",
        "  - or after multiplying the attention weights with the value vectors\n",
        "- Here, we will apply the dropout mask after computing the attention weights because it's more common\n",
        "\n",
        "- Furthermore, in this specific example, we use a dropout rate of 50%, which means randomly masking out half of the attention weights. (When we train the GPT model later, we will use a lower dropout rate, such as 0.1 or 0.2"
      ]
    },
    {
      "cell_type": "markdown",
      "id": "ee799cf6-6175-45f2-827e-c174afedb722",
      "metadata": {
        "id": "ee799cf6-6175-45f2-827e-c174afedb722"
      },
      "source": [
        "<img src=\"https://sebastianraschka.com/images/LLMs-from-scratch-images/ch03_compressed/22.webp\" width=\"400px\">"
      ]
    },
    {
      "cell_type": "markdown",
      "id": "5a575458-a6da-4e54-8688-83e155f2de06",
      "metadata": {
        "id": "5a575458-a6da-4e54-8688-83e155f2de06"
      },
      "source": [
        "- If we apply a dropout rate of 0.5 (50%), the non-dropped values will be scaled accordingly by a factor of 1/0.5 = 2\n",
        "- The scaling is calculated by the formula 1 / (1 - `dropout_rate`)"
      ]
    },
    {
      "cell_type": "code",
      "execution_count": 32,
      "id": "0de578db-8289-41d6-b377-ef645751e33f",
      "metadata": {
        "colab": {
          "base_uri": "https://localhost:8080/"
        },
        "id": "0de578db-8289-41d6-b377-ef645751e33f",
        "outputId": "8f6c241f-1ae4-4c47-b131-cc14a9d3a916"
      },
      "outputs": [
        {
          "output_type": "stream",
          "name": "stdout",
          "text": [
            "tensor([[2., 2., 2., 2., 2., 2.],\n",
            "        [0., 2., 0., 0., 0., 0.],\n",
            "        [0., 0., 2., 0., 2., 0.],\n",
            "        [2., 2., 0., 0., 0., 2.],\n",
            "        [2., 0., 0., 0., 0., 2.],\n",
            "        [0., 2., 0., 0., 0., 0.]])\n"
          ]
        }
      ],
      "source": [
        "torch.manual_seed(123)\n",
        "dropout = torch.nn.Dropout(0.5) # dropout rate of 50%\n",
        "example = torch.ones(6, 6) # create a matrix of ones\n",
        "\n",
        "print(dropout(example))"
      ]
    },
    {
      "cell_type": "code",
      "execution_count": 33,
      "id": "b16c5edb-942b-458c-8e95-25e4e355381e",
      "metadata": {
        "colab": {
          "base_uri": "https://localhost:8080/"
        },
        "id": "b16c5edb-942b-458c-8e95-25e4e355381e",
        "outputId": "43186114-b276-4072-8105-275aaf9093d6"
      },
      "outputs": [
        {
          "output_type": "stream",
          "name": "stdout",
          "text": [
            "tensor([[2.0000, 0.0000, 0.0000, 0.0000, 0.0000, 0.0000],\n",
            "        [0.0000, 0.8966, 0.0000, 0.0000, 0.0000, 0.0000],\n",
            "        [0.0000, 0.0000, 0.6206, 0.0000, 0.0000, 0.0000],\n",
            "        [0.5517, 0.4921, 0.0000, 0.0000, 0.0000, 0.0000],\n",
            "        [0.4350, 0.0000, 0.0000, 0.0000, 0.0000, 0.0000],\n",
            "        [0.0000, 0.3327, 0.0000, 0.0000, 0.0000, 0.0000]],\n",
            "       grad_fn=<MulBackward0>)\n"
          ]
        }
      ],
      "source": [
        "torch.manual_seed(123)\n",
        "print(dropout(attn_weights))"
      ]
    },
    {
      "cell_type": "markdown",
      "id": "269df5c8-3e25-49d0-95d3-bb232287404f",
      "metadata": {
        "id": "269df5c8-3e25-49d0-95d3-bb232287404f"
      },
      "source": [
        "- Note that the resulting dropout outputs may look different depending on your operating system; you can read more about this inconsistency [here on the PyTorch issue tracker](https://github.com/pytorch/pytorch/issues/121595)"
      ]
    },
    {
      "cell_type": "markdown",
      "id": "cdc14639-5f0f-4840-aa9d-8eb36ea90fb7",
      "metadata": {
        "id": "cdc14639-5f0f-4840-aa9d-8eb36ea90fb7"
      },
      "source": [
        "### 3.5.3 Implementing a compact causal self-attention class"
      ]
    },
    {
      "cell_type": "markdown",
      "id": "09c41d29-1933-43dc-ada6-2dbb56287204",
      "metadata": {
        "id": "09c41d29-1933-43dc-ada6-2dbb56287204"
      },
      "source": [
        "- Now, we are ready to implement a working implementation of self-attention, including the causal and dropout masks\n",
        "- One more thing is to implement the code to handle batches consisting of more than one input so that our `CausalAttention` class supports the batch outputs produced by the data loader we implemented in chapter 2\n",
        "- For simplicity, to simulate such batch input, we duplicate the input text example:"
      ]
    },
    {
      "cell_type": "code",
      "execution_count": 34,
      "id": "977a5fa7-a9d5-4e2e-8a32-8e0331ccfe28",
      "metadata": {
        "colab": {
          "base_uri": "https://localhost:8080/"
        },
        "id": "977a5fa7-a9d5-4e2e-8a32-8e0331ccfe28",
        "outputId": "31feb73f-ba27-4a5d-ae54-5e745a0d1651"
      },
      "outputs": [
        {
          "output_type": "stream",
          "name": "stdout",
          "text": [
            "torch.Size([2, 6, 3])\n"
          ]
        }
      ],
      "source": [
        "batch = torch.stack((inputs, inputs), dim=0)\n",
        "print(batch.shape) # 2 inputs with 6 tokens each, and each token has embedding dimension 3"
      ]
    },
    {
      "cell_type": "code",
      "execution_count": 35,
      "id": "60d8c2eb-2d8e-4d2c-99bc-9eef8cc53ca0",
      "metadata": {
        "colab": {
          "base_uri": "https://localhost:8080/"
        },
        "id": "60d8c2eb-2d8e-4d2c-99bc-9eef8cc53ca0",
        "outputId": "b729bf81-0281-4af4-a31b-f4b6bb89798f"
      },
      "outputs": [
        {
          "output_type": "stream",
          "name": "stdout",
          "text": [
            "tensor([[[-0.4519,  0.2216],\n",
            "         [-0.5874,  0.0058],\n",
            "         [-0.6300, -0.0632],\n",
            "         [-0.5675, -0.0843],\n",
            "         [-0.5526, -0.0981],\n",
            "         [-0.5299, -0.1081]],\n",
            "\n",
            "        [[-0.4519,  0.2216],\n",
            "         [-0.5874,  0.0058],\n",
            "         [-0.6300, -0.0632],\n",
            "         [-0.5675, -0.0843],\n",
            "         [-0.5526, -0.0981],\n",
            "         [-0.5299, -0.1081]]], grad_fn=<UnsafeViewBackward0>)\n",
            "context_vecs.shape: torch.Size([2, 6, 2])\n"
          ]
        }
      ],
      "source": [
        "class CausalAttention(nn.Module): # Defines a new neural network module for causal attention (where each position can only attend to previous positions). Tis is teachnically is a head\n",
        "\n",
        "    def __init__(self, d_in, d_out, context_length,\n",
        "                 dropout, qkv_bias=False): # Constructor taking input dimension, output dimension, context length, dropout rate, and optional bias flag for Q/K/V transformations\n",
        "        super().__init__()\n",
        "        self.d_out = d_out # Stores output dimension\n",
        "        self.W_query = nn.Linear(d_in, d_out, bias=qkv_bias) # Creates three linear transformations (this line and next two lines) for Query, Key, and Value vectors\n",
        "        self.W_key   = nn.Linear(d_in, d_out, bias=qkv_bias) # Each (this line, previous and next line) transforms from d_in to d_out dimensions with optional bias\n",
        "        self.W_value = nn.Linear(d_in, d_out, bias=qkv_bias)\n",
        "        self.dropout = nn.Dropout(dropout) # New (Creates dropout layer for regularization)\n",
        "        self.register_buffer('mask', torch.triu(torch.ones(context_length, context_length), diagonal=1)) # New (Creates an upper triangular mask to prevent attending to future tokens)\n",
        "        # register_buffer stores the mask in the model but doesn't treat it as a parameter\n",
        "        # The \"mask\" is constant (just blocks future positions\n",
        "\n",
        "    def forward(self, x):\n",
        "        b, num_tokens, d_in = x.shape # New batch dimension b\n",
        "        keys = self.W_key(x) # Transforms input into Keys, Queries, and Values using the linear layers\n",
        "        queries = self.W_query(x)\n",
        "        values = self.W_value(x)\n",
        "\n",
        "        attn_scores = queries @ keys.transpose(1, 2) # See the following figure. We transpose dimention 1 and 2, keeping the batch dimension at the first position (0):\n",
        "        attn_scores.masked_fill_(  # Applies causal mask by setting future positions to negative infinity\n",
        "            self.mask.bool()[:num_tokens, :num_tokens], -torch.inf)  # `:num_tokens` to account for cases where the number of tokens in the batch is smaller than the supported context_size\n",
        "        attn_weights = torch.softmax(\n",
        "            attn_scores / keys.shape[-1]**0.5, dim=-1\n",
        "        )\n",
        "        attn_weights = self.dropout(attn_weights) # New\n",
        "\n",
        "        context_vec = attn_weights @ values\n",
        "        return context_vec\n",
        "\n",
        "torch.manual_seed(123)\n",
        "\n",
        "context_length = batch.shape[1]\n",
        "ca = CausalAttention(d_in, d_out, context_length, 0.0)\n",
        "\n",
        "context_vecs = ca(batch)\n",
        "\n",
        "print(context_vecs)\n",
        "print(\"context_vecs.shape:\", context_vecs.shape)"
      ]
    },
    {
      "cell_type": "markdown",
      "source": [
        "We transpose dimention 1 and 2, keeping the batch dimension at the first position (0). The second figure, where we show Matrix Multiplication, we show the dimentions not the real value.\n",
        "\n",
        "![image.png](data:image/png;base64,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)"
      ],
      "metadata": {
        "id": "g3m_8vQ9-wA9"
      },
      "id": "g3m_8vQ9-wA9"
    },
    {
      "cell_type": "markdown",
      "source": [
        "To show real value example for Matrix multiplication see the following figure:\n",
        "\n",
        "![image.png](data:image/png;base64,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)"
      ],
      "metadata": {
        "id": "wT8RLNyUHNG5"
      },
      "id": "wT8RLNyUHNG5"
    },
    {
      "cell_type": "markdown",
      "id": "c4333d12-17e4-4bb5-9d83-54b3a32618cd",
      "metadata": {
        "id": "c4333d12-17e4-4bb5-9d83-54b3a32618cd"
      },
      "source": [
        "- Note that dropout is only applied during training, not during inference"
      ]
    },
    {
      "cell_type": "markdown",
      "id": "a554cf47-558c-4f45-84cd-bf9b839a8d50",
      "metadata": {
        "id": "a554cf47-558c-4f45-84cd-bf9b839a8d50"
      },
      "source": [
        "<img src=\"https://sebastianraschka.com/images/LLMs-from-scratch-images/ch03_compressed/23.webp\" width=\"500px\">"
      ]
    },
    {
      "cell_type": "markdown",
      "id": "c8bef90f-cfd4-4289-b0e8-6a00dc9be44c",
      "metadata": {
        "id": "c8bef90f-cfd4-4289-b0e8-6a00dc9be44c"
      },
      "source": [
        "## 3.6 Extending single-head attention to multi-head attention"
      ]
    },
    {
      "cell_type": "markdown",
      "id": "11697757-9198-4a1c-9cee-f450d8bbd3b9",
      "metadata": {
        "id": "11697757-9198-4a1c-9cee-f450d8bbd3b9"
      },
      "source": [
        "### 3.6.1 Stacking multiple single-head attention layers"
      ]
    },
    {
      "cell_type": "markdown",
      "id": "70766faf-cd53-41d9-8a17-f1b229756a5a",
      "metadata": {
        "id": "70766faf-cd53-41d9-8a17-f1b229756a5a"
      },
      "source": [
        "- Below is a summary of the self-attention implemented previously (causal and dropout masks not shown for simplicity)\n",
        "\n",
        "- This is also called single-head attention:\n",
        "\n",
        "<img src=\"https://sebastianraschka.com/images/LLMs-from-scratch-images/ch03_compressed/24.webp\" width=\"400px\">\n",
        "\n",
        "- We simply stack multiple single-head attention modules to obtain a multi-head attention module:\n",
        "\n",
        "<img src=\"https://sebastianraschka.com/images/LLMs-from-scratch-images/ch03_compressed/25.webp\" width=\"400px\">\n",
        "\n",
        "- The main idea behind multi-head attention is to run the attention mechanism multiple times (in parallel) with different, learned linear projections. This allows the model to jointly attend to information from different representation subspaces at different positions."
      ]
    },
    {
      "cell_type": "code",
      "execution_count": 36,
      "id": "b9a66e11-7105-4bb4-be84-041f1a1f3bd2",
      "metadata": {
        "colab": {
          "base_uri": "https://localhost:8080/"
        },
        "id": "b9a66e11-7105-4bb4-be84-041f1a1f3bd2",
        "outputId": "b671fc0a-24e4-4c21-c0a5-84d016b378eb"
      },
      "outputs": [
        {
          "output_type": "stream",
          "name": "stdout",
          "text": [
            "tensor([[[-0.4519,  0.2216,  0.4772,  0.1063],\n",
            "         [-0.5874,  0.0058,  0.5891,  0.3257],\n",
            "         [-0.6300, -0.0632,  0.6202,  0.3860],\n",
            "         [-0.5675, -0.0843,  0.5478,  0.3589],\n",
            "         [-0.5526, -0.0981,  0.5321,  0.3428],\n",
            "         [-0.5299, -0.1081,  0.5077,  0.3493]],\n",
            "\n",
            "        [[-0.4519,  0.2216,  0.4772,  0.1063],\n",
            "         [-0.5874,  0.0058,  0.5891,  0.3257],\n",
            "         [-0.6300, -0.0632,  0.6202,  0.3860],\n",
            "         [-0.5675, -0.0843,  0.5478,  0.3589],\n",
            "         [-0.5526, -0.0981,  0.5321,  0.3428],\n",
            "         [-0.5299, -0.1081,  0.5077,  0.3493]]], grad_fn=<CatBackward0>)\n",
            "context_vecs.shape: torch.Size([2, 6, 4])\n"
          ]
        }
      ],
      "source": [
        "class MultiHeadAttentionWrapper(nn.Module):\n",
        "\n",
        "    def __init__(self, d_in, d_out, context_length, dropout, num_heads, qkv_bias=False):\n",
        "        super().__init__()\n",
        "        self.heads = nn.ModuleList(\n",
        "            [CausalAttention(d_in, d_out, context_length, dropout, qkv_bias)\n",
        "             for _ in range(num_heads)]\n",
        "        )\n",
        "\n",
        "    def forward(self, x):\n",
        "        return torch.cat([head(x) for head in self.heads], dim=-1)\n",
        "\n",
        "\n",
        "torch.manual_seed(123)\n",
        "\n",
        "context_length = batch.shape[1] # This is the number of tokens\n",
        "d_in, d_out = 3, 2\n",
        "mha = MultiHeadAttentionWrapper(\n",
        "    d_in, d_out, context_length, 0.0, num_heads=2\n",
        ")\n",
        "\n",
        "context_vecs = mha(batch)\n",
        "\n",
        "print(context_vecs)\n",
        "print(\"context_vecs.shape:\", context_vecs.shape)"
      ]
    },
    {
      "cell_type": "markdown",
      "id": "193d3d2b-2578-40ba-b791-ea2d49328e48",
      "metadata": {
        "id": "193d3d2b-2578-40ba-b791-ea2d49328e48"
      },
      "source": [
        "- In the implementation above, the embedding dimension is 4, because we `d_out=2` as the embedding dimension for the key, query, and value vectors as well as the context vector. And since we have 2 attention heads, we have the output embedding dimension 2*2=4"
      ]
    },
    {
      "cell_type": "markdown",
      "id": "6836b5da-ef82-4b4c-bda1-72a462e48d4e",
      "metadata": {
        "id": "6836b5da-ef82-4b4c-bda1-72a462e48d4e"
      },
      "source": [
        "### 3.6.2 Implementing multi-head attention with weight splits"
      ]
    },
    {
      "cell_type": "markdown",
      "id": "f4b48d0d-71ba-4fa0-b714-ca80cabcb6f7",
      "metadata": {
        "id": "f4b48d0d-71ba-4fa0-b714-ca80cabcb6f7"
      },
      "source": [
        "- While the above is an intuitive and fully functional implementation of multi-head attention (wrapping the single-head attention `CausalAttention` implementation from earlier), we can write a stand-alone class called `MultiHeadAttention` to achieve the same\n",
        "\n",
        "- We don't concatenate single attention heads for this stand-alone `MultiHeadAttention` class\n",
        "- Instead, we create single W_query, W_key, and W_value weight matrices and then split those into individual matrices for each attention head:"
      ]
    },
    {
      "cell_type": "code",
      "execution_count": 37,
      "id": "110b0188-6e9e-4e56-a988-10523c6c8538",
      "metadata": {
        "colab": {
          "base_uri": "https://localhost:8080/"
        },
        "id": "110b0188-6e9e-4e56-a988-10523c6c8538",
        "outputId": "dd802c26-40b3-4c03-e7c8-7c0dd68fb4bd"
      },
      "outputs": [
        {
          "output_type": "stream",
          "name": "stdout",
          "text": [
            "tensor([[[0.3190, 0.4858],\n",
            "         [0.2943, 0.3897],\n",
            "         [0.2856, 0.3593],\n",
            "         [0.2693, 0.3873],\n",
            "         [0.2639, 0.3928],\n",
            "         [0.2575, 0.4028]],\n",
            "\n",
            "        [[0.3190, 0.4858],\n",
            "         [0.2943, 0.3897],\n",
            "         [0.2856, 0.3593],\n",
            "         [0.2693, 0.3873],\n",
            "         [0.2639, 0.3928],\n",
            "         [0.2575, 0.4028]]], grad_fn=<ViewBackward0>)\n",
            "context_vecs.shape: torch.Size([2, 6, 2])\n"
          ]
        }
      ],
      "source": [
        "class MultiHeadAttention(nn.Module):\n",
        "    def __init__(self, d_in, d_out, context_length, dropout, num_heads, qkv_bias=False):\n",
        "        super().__init__()\n",
        "        assert (d_out % num_heads == 0), \\\n",
        "            \"d_out must be divisible by num_heads\"\n",
        "\n",
        "        self.d_out = d_out\n",
        "        self.num_heads = num_heads\n",
        "        self.head_dim = d_out // num_heads # Reduce the projection dim to match desired output dim\n",
        "\n",
        "        self.W_query = nn.Linear(d_in, d_out, bias=qkv_bias)\n",
        "        self.W_key = nn.Linear(d_in, d_out, bias=qkv_bias)\n",
        "        self.W_value = nn.Linear(d_in, d_out, bias=qkv_bias)\n",
        "        self.out_proj = nn.Linear(d_out, d_out)  # Linear layer to combine head outputs\n",
        "        self.dropout = nn.Dropout(dropout)\n",
        "        self.register_buffer(\n",
        "            \"mask\",\n",
        "            torch.triu(torch.ones(context_length, context_length),\n",
        "                       diagonal=1)\n",
        "        )\n",
        "\n",
        "    def forward(self, x):\n",
        "        b, num_tokens, d_in = x.shape\n",
        "\n",
        "        keys = self.W_key(x) # Shape: (b, num_tokens, d_out)\n",
        "        queries = self.W_query(x)\n",
        "        values = self.W_value(x)\n",
        "\n",
        "        # We implicitly split the matrix by adding a `num_heads` dimension\n",
        "        # Unroll last dim: (b, num_tokens, d_out) -> (b, num_tokens, num_heads, head_dim)\n",
        "        keys = keys.view(b, num_tokens, self.num_heads, self.head_dim)\n",
        "        values = values.view(b, num_tokens, self.num_heads, self.head_dim)\n",
        "        queries = queries.view(b, num_tokens, self.num_heads, self.head_dim)\n",
        "\n",
        "        # Transpose: (b, num_tokens, num_heads, head_dim) -> (b, num_heads, num_tokens, head_dim)\n",
        "        keys = keys.transpose(1, 2)\n",
        "        queries = queries.transpose(1, 2)\n",
        "        values = values.transpose(1, 2)\n",
        "\n",
        "        # Compute scaled dot-product attention (aka self-attention) with a causal mask\n",
        "        attn_scores = queries @ keys.transpose(2, 3)  # Dot product for each head\n",
        "\n",
        "        # Original mask truncated to the number of tokens and converted to boolean\n",
        "        mask_bool = self.mask.bool()[:num_tokens, :num_tokens]\n",
        "\n",
        "        # Use the mask to fill attention scores\n",
        "        attn_scores.masked_fill_(mask_bool, -torch.inf)\n",
        "\n",
        "        attn_weights = torch.softmax(attn_scores / keys.shape[-1]**0.5, dim=-1)\n",
        "        attn_weights = self.dropout(attn_weights)\n",
        "\n",
        "        # Shape: (b, num_tokens, num_heads, head_dim)\n",
        "        context_vec = (attn_weights @ values).transpose(1, 2)\n",
        "\n",
        "        # Combine heads, where self.d_out = self.num_heads * self.head_dim\n",
        "        context_vec = context_vec.contiguous().view(b, num_tokens, self.d_out)\n",
        "        context_vec = self.out_proj(context_vec) # optional projection\n",
        "\n",
        "        return context_vec\n",
        "\n",
        "torch.manual_seed(123)\n",
        "\n",
        "batch_size, context_length, d_in = batch.shape\n",
        "d_out = 2\n",
        "mha = MultiHeadAttention(d_in, d_out, context_length, 0.0, num_heads=2)\n",
        "\n",
        "context_vecs = mha(batch)\n",
        "\n",
        "print(context_vecs)\n",
        "print(\"context_vecs.shape:\", context_vecs.shape)"
      ]
    },
    {
      "cell_type": "markdown",
      "id": "d334dfb5-2b6c-4c33-82d5-b4e9db5867bb",
      "metadata": {
        "id": "d334dfb5-2b6c-4c33-82d5-b4e9db5867bb"
      },
      "source": [
        "- Note that the above is essentially a rewritten version of `MultiHeadAttentionWrapper` that is more efficient\n",
        "- The resulting output looks a bit different since the random weight initializations differ, but both are fully functional implementations that can be used in the GPT class we will implement in the upcoming chapters\n",
        "- Note that in addition, we added a linear projection layer (`self.out_proj `) to the `MultiHeadAttention` class above. This is simply a linear transformation that doesn't change the dimensions. It's a standard convention to use such a projection layer in LLM implementation, but it's not strictly necessary (recent research has shown that it can be removed without affecting the modeling performance; see the further reading section at the end of this chapter)\n"
      ]
    },
    {
      "cell_type": "markdown",
      "id": "dbe5d396-c990-45dc-9908-2c621461f851",
      "metadata": {
        "id": "dbe5d396-c990-45dc-9908-2c621461f851"
      },
      "source": [
        "<img src=\"https://sebastianraschka.com/images/LLMs-from-scratch-images/ch03_compressed/26.webp\" width=\"400px\">"
      ]
    },
    {
      "cell_type": "markdown",
      "id": "8b0ed78c-e8ac-4f8f-a479-a98242ae8f65",
      "metadata": {
        "id": "8b0ed78c-e8ac-4f8f-a479-a98242ae8f65"
      },
      "source": [
        "- Note that if you are interested in a compact and efficient implementation of the above, you can also consider the [`torch.nn.MultiheadAttention`](https://pytorch.org/docs/stable/generated/torch.nn.MultiheadAttention.html) class in PyTorch"
      ]
    },
    {
      "cell_type": "markdown",
      "id": "363701ad-2022-46c8-9972-390d2a2b9911",
      "metadata": {
        "id": "363701ad-2022-46c8-9972-390d2a2b9911"
      },
      "source": [
        "- Since the above implementation may look a bit complex at first glance, let's look at what happens when executing `attn_scores = queries @ keys.transpose(2, 3)`:"
      ]
    },
    {
      "cell_type": "code",
      "execution_count": 38,
      "id": "e8cfc1ae-78ab-4faa-bc73-98bd054806c9",
      "metadata": {
        "colab": {
          "base_uri": "https://localhost:8080/"
        },
        "id": "e8cfc1ae-78ab-4faa-bc73-98bd054806c9",
        "outputId": "b1dc08d4-0ce8-4439-bd41-554231a1c954"
      },
      "outputs": [
        {
          "output_type": "stream",
          "name": "stdout",
          "text": [
            "tensor([[[[1.3208, 1.1631, 1.2879],\n",
            "          [1.1631, 2.2150, 1.8424],\n",
            "          [1.2879, 1.8424, 2.0402]],\n",
            "\n",
            "         [[0.4391, 0.7003, 0.5903],\n",
            "          [0.7003, 1.3737, 1.0620],\n",
            "          [0.5903, 1.0620, 0.9912]]]])\n"
          ]
        }
      ],
      "source": [
        "# (b, num_heads, num_tokens, head_dim) = (1, 2, 3, 4)\n",
        "a = torch.tensor([[[[0.2745, 0.6584, 0.2775, 0.8573],\n",
        "                    [0.8993, 0.0390, 0.9268, 0.7388],\n",
        "                    [0.7179, 0.7058, 0.9156, 0.4340]],\n",
        "\n",
        "                   [[0.0772, 0.3565, 0.1479, 0.5331],\n",
        "                    [0.4066, 0.2318, 0.4545, 0.9737],\n",
        "                    [0.4606, 0.5159, 0.4220, 0.5786]]]])\n",
        "\n",
        "print(a @ a.transpose(2, 3))"
      ]
    },
    {
      "cell_type": "markdown",
      "id": "0587b946-c8f2-4888-adbf-5a5032fbfd7b",
      "metadata": {
        "id": "0587b946-c8f2-4888-adbf-5a5032fbfd7b"
      },
      "source": [
        "- In this case, the matrix multiplication implementation in PyTorch will handle the 4-dimensional input tensor so that the matrix multiplication is carried out between the 2 last dimensions (num_tokens, head_dim) and then repeated for the individual heads\n",
        "\n",
        "- For instance, the following becomes a more compact way to compute the matrix multiplication for each head separately:"
      ]
    },
    {
      "cell_type": "code",
      "execution_count": 39,
      "id": "053760f1-1a02-42f0-b3bf-3d939e407039",
      "metadata": {
        "colab": {
          "base_uri": "https://localhost:8080/"
        },
        "id": "053760f1-1a02-42f0-b3bf-3d939e407039",
        "outputId": "5a881cc1-46e9-4ed1-c01f-4f4c46fdedc3"
      },
      "outputs": [
        {
          "output_type": "stream",
          "name": "stdout",
          "text": [
            "First head:\n",
            " tensor([[1.3208, 1.1631, 1.2879],\n",
            "        [1.1631, 2.2150, 1.8424],\n",
            "        [1.2879, 1.8424, 2.0402]])\n",
            "\n",
            "Second head:\n",
            " tensor([[0.4391, 0.7003, 0.5903],\n",
            "        [0.7003, 1.3737, 1.0620],\n",
            "        [0.5903, 1.0620, 0.9912]])\n"
          ]
        }
      ],
      "source": [
        "first_head = a[0, 0, :, :]\n",
        "first_res = first_head @ first_head.T\n",
        "print(\"First head:\\n\", first_res)\n",
        "\n",
        "second_head = a[0, 1, :, :]\n",
        "second_res = second_head @ second_head.T\n",
        "print(\"\\nSecond head:\\n\", second_res)"
      ]
    },
    {
      "cell_type": "markdown",
      "id": "dec671bf-7938-4304-ad1e-75d9920e7f43",
      "metadata": {
        "id": "dec671bf-7938-4304-ad1e-75d9920e7f43"
      },
      "source": [
        "# Summary and takeaways"
      ]
    },
    {
      "cell_type": "markdown",
      "id": "fa3e4113-ffca-432c-b3ec-7a50bd15da25",
      "metadata": {
        "id": "fa3e4113-ffca-432c-b3ec-7a50bd15da25"
      },
      "source": [
        "- See the [./multihead-attention.ipynb](./multihead-attention.ipynb) code notebook, which is a concise version of the data loader (chapter 2) plus the multi-head attention class that we implemented in this chapter and will need for training the GPT model in upcoming chapters\n",
        "- You can find the exercise solutions in [./exercise-solutions.ipynb](./exercise-solutions.ipynb)"
      ]
    }
  ],
  "metadata": {
    "kernelspec": {
      "display_name": "Python 3 (ipykernel)",
      "language": "python",
      "name": "python3"
    },
    "language_info": {
      "codemirror_mode": {
        "name": "ipython",
        "version": 3
      },
      "file_extension": ".py",
      "mimetype": "text/x-python",
      "name": "python",
      "nbconvert_exporter": "python",
      "pygments_lexer": "ipython3",
      "version": "3.11.4"
    },
    "colab": {
      "provenance": [],
      "include_colab_link": true
    }
  },
  "nbformat": 4,
  "nbformat_minor": 5
}